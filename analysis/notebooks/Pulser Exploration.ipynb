{
 "cells": [
  {
   "cell_type": "code",
   "execution_count": 1,
   "id": "15d8f8ad",
   "metadata": {},
   "outputs": [
    {
     "name": "stdout",
     "output_type": "stream",
     "text": [
      "Due to some ongoing work on experimental GPU features, some warning statments may print during import\n",
      "If you see statements about CUDA or cupy, they should be safe to ignore\n",
      "If you have any questions feel free to email me: dgma224@g.uky.edu\n",
      "GPU not available to accelerate processing\n",
      "No module named 'cupy'\n"
     ]
    }
   ],
   "source": [
    "'''\n",
    "This cell imports the different classes and datafiles.\n",
    "'''\n",
    "import basicFunctions as bf\n",
    "import eventFileClass as ef\n",
    "import fileFormats as ff\n",
    "import resultFileClass as rf\n",
    "import temperatureFileClass as tf\n",
    "import waveformFileClass as wf\n",
    "import parameterFileClass as pf\n",
    "import pyNab as Nab\n",
    "\n",
    "import numpy as np #import for efficient C styled arrays\n",
    "import matplotlib.pyplot as plt #import for plotting\n",
    "import os #import to help with finding files and calling scripts\n",
    "import ntpath #another library for file scripts\n",
    "import scipy.signal\n",
    "import matplotlib.patches as patches\n",
    "import matplotlib.colors as colors\n",
    "import matplotlib.cm as cmx\n",
    "\n",
    "from basic_Nab_analysis import *\n",
    "import basicFunctions as bf\n",
    "from tqdm import tqdm\n",
    "import matplotlib as mpl\n",
    "%matplotlib notebook\n",
    "plt.rcParams['figure.figsize'] = [8, 5]"
   ]
  },
  {
   "cell_type": "code",
   "execution_count": 2,
   "id": "e1d5d762",
   "metadata": {},
   "outputs": [],
   "source": [
    "figDir = \"/Users/leenderthayen/git/NDP/analysis/figures/\"\n",
    "figPrefix = \"2_18_22_\"\n",
    "\n",
    "fileDir = \"/Users/leenderthayen/git/NDP/data/UoM/300V_109Cd_pulser_2_18_22/\""
   ]
  },
  {
   "cell_type": "code",
   "execution_count": 4,
   "id": "ccd45010",
   "metadata": {},
   "outputs": [],
   "source": [
    "RunNumber = 1586\n",
    "dataRun = Nab.DataRun(fileDir, RunNumber, ignoreEventFile = True)"
   ]
  },
  {
   "cell_type": "code",
   "execution_count": null,
   "id": "389cb718",
   "metadata": {},
   "outputs": [],
   "source": []
  }
 ],
 "metadata": {
  "kernelspec": {
   "display_name": "nab_analysis",
   "language": "python",
   "name": "nab_analysis"
  },
  "language_info": {
   "codemirror_mode": {
    "name": "ipython",
    "version": 3
   },
   "file_extension": ".py",
   "mimetype": "text/x-python",
   "name": "python",
   "nbconvert_exporter": "python",
   "pygments_lexer": "ipython3",
   "version": "3.9.10"
  }
 },
 "nbformat": 4,
 "nbformat_minor": 5
}
